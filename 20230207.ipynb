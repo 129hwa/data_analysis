{
 "cells": [
  {
   "cell_type": "markdown",
   "id": "d68da455-9d21-4b29-9dd8-89fc8e5e014c",
   "metadata": {},
   "source": [
    "## 특수문자 제거"
   ]
  },
  {
   "cell_type": "code",
   "execution_count": 4,
   "id": "3755a0af-df97-4477-8802-7e1b74a1fcc6",
   "metadata": {},
   "outputs": [
    {
     "name": "stdout",
     "output_type": "stream",
     "text": [
      "!\"#$%&'()*+,-./:;<=>?@[\\]^_`{|}~\n"
     ]
    }
   ],
   "source": [
    "from string import punctuation\n",
    "\n",
    "print(punctuation)"
   ]
  },
  {
   "cell_type": "code",
   "execution_count": 9,
   "id": "59b399f2-7437-4044-a82d-fbd3fbd67f6a",
   "metadata": {},
   "outputs": [
    {
     "name": "stdout",
     "output_type": "stream",
     "text": [
      "what is the weather like\n"
     ]
    }
   ],
   "source": [
    "text = \"wh?at is the weat[h]er lik?e?\"\n",
    "\n",
    "for char in punctuation:\n",
    "    text = text.replace(char, \"\")\n",
    "\n",
    "print(text)"
   ]
  },
  {
   "cell_type": "code",
   "execution_count": 10,
   "id": "96f33df8-00ba-4afa-9368-b55567523855",
   "metadata": {},
   "outputs": [
    {
     "name": "stdout",
     "output_type": "stream",
     "text": [
      "what is the weather like\n"
     ]
    }
   ],
   "source": [
    "import re\n",
    "\n",
    "text = \"wh?at is the weat[h]er lik?e?\"\n",
    "\n",
    "text = re.sub(r\"[^\\w\\s]\", \"\", text)\n",
    "print(text)"
   ]
  },
  {
   "cell_type": "markdown",
   "id": "e24d0789-97bd-4f01-80a7-19591a641a3d",
   "metadata": {},
   "source": [
    "### 물음표는 남기고 싶을 때??"
   ]
  },
  {
   "cell_type": "code",
   "execution_count": 20,
   "id": "c3778b7e-912e-4c9f-bab4-02e193fbeaf1",
   "metadata": {},
   "outputs": [
    {
     "name": "stdout",
     "output_type": "stream",
     "text": [
      "wh?at is the weather lik?e?\n"
     ]
    }
   ],
   "source": [
    "text = \"wh?at is the weat[h]er lik?e?\"\n",
    "\n",
    "for char in punctuation.replace(\"?\", \"\"):\n",
    "    text = text.replace(char, \"\")\n",
    "\n",
    "print(text)"
   ]
  },
  {
   "cell_type": "code",
   "execution_count": 12,
   "id": "5d613eb0-034b-4b2d-b513-f85de0522cf7",
   "metadata": {},
   "outputs": [
    {
     "name": "stdout",
     "output_type": "stream",
     "text": [
      "wh?at is the weather lik?e?\n"
     ]
    }
   ],
   "source": [
    "text = \"wh?at is the weat[h]er lik?e?\"\n",
    "\n",
    "text = re.sub(r\"[^\\w\\s\\?]\", \"\", text)\n",
    "print(text)"
   ]
  },
  {
   "cell_type": "code",
   "execution_count": null,
   "id": "5e156c77-5693-4eb2-b9d2-afcedda136ae",
   "metadata": {},
   "outputs": [],
   "source": []
  },
  {
   "cell_type": "markdown",
   "id": "679693b3-905f-42d0-a769-7665ff48b105",
   "metadata": {},
   "source": [
    "# find 와 find_all 차이?"
   ]
  },
  {
   "cell_type": "code",
   "execution_count": 14,
   "id": "bfb41ad7-03e3-40db-8ba6-ffedb9a8e58f",
   "metadata": {},
   "outputs": [
    {
     "data": {
      "text/plain": [
       "['10', '7', '2']"
      ]
     },
     "execution_count": 14,
     "metadata": {},
     "output_type": "execute_result"
    }
   ],
   "source": [
    "text = \"오늘 삼성전자 주가는 전일 대비 10% 오른 7만2천원에 마감했습니다.\"\n",
    "\n",
    "result = re.findall('\\d+', text)\n",
    "result"
   ]
  },
  {
   "cell_type": "code",
   "execution_count": 15,
   "id": "171d75bc-1366-4aae-8edd-a6b08dff9ff5",
   "metadata": {},
   "outputs": [
    {
     "data": {
      "text/plain": [
       "['10']"
      ]
     },
     "execution_count": 15,
     "metadata": {},
     "output_type": "execute_result"
    }
   ],
   "source": [
    "result = re.findall('\\d{2}', text)\n",
    "result"
   ]
  },
  {
   "cell_type": "code",
   "execution_count": 16,
   "id": "1432295f-610d-4abd-95e1-3b4c91fb9db8",
   "metadata": {},
   "outputs": [
    {
     "data": {
      "text/plain": [
       "['10', '7', '2']"
      ]
     },
     "execution_count": 16,
     "metadata": {},
     "output_type": "execute_result"
    }
   ],
   "source": [
    "result = re.findall('\\d{1,2}', text)\n",
    "result"
   ]
  },
  {
   "cell_type": "code",
   "execution_count": 17,
   "id": "518959f9-6af1-4f7b-8730-4fd759ae0adb",
   "metadata": {},
   "outputs": [
    {
     "data": {
      "text/plain": [
       "['7만']"
      ]
     },
     "execution_count": 17,
     "metadata": {},
     "output_type": "execute_result"
    }
   ],
   "source": [
    "result = re.findall('\\d{1,2}만', text)\n",
    "result"
   ]
  },
  {
   "cell_type": "code",
   "execution_count": 19,
   "id": "6a795825-f1b3-4a70-9805-b53fcbd74483",
   "metadata": {},
   "outputs": [
    {
     "data": {
      "text/plain": [
       "['7만2천원']"
      ]
     },
     "execution_count": 19,
     "metadata": {},
     "output_type": "execute_result"
    }
   ],
   "source": [
    "result = re.findall('\\d{1}만\\d{1}천원', text)\n",
    "result"
   ]
  },
  {
   "cell_type": "code",
   "execution_count": null,
   "id": "800aaf76-d05a-490e-a417-a5f6bf2a5506",
   "metadata": {},
   "outputs": [],
   "source": []
  }
 ],
 "metadata": {
  "kernelspec": {
   "display_name": "steve",
   "language": "python",
   "name": "steve"
  },
  "language_info": {
   "codemirror_mode": {
    "name": "ipython",
    "version": 3
   },
   "file_extension": ".py",
   "mimetype": "text/x-python",
   "name": "python",
   "nbconvert_exporter": "python",
   "pygments_lexer": "ipython3",
   "version": "3.8.13"
  }
 },
 "nbformat": 4,
 "nbformat_minor": 5
}
