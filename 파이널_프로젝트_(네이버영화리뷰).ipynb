{
  "nbformat": 4,
  "nbformat_minor": 0,
  "metadata": {
    "colab": {
      "provenance": [],
      "collapsed_sections": [
        "993bhoHVPG4h",
        "Xa-xbVHJ9TQ_"
      ]
    },
    "kernelspec": {
      "name": "python3",
      "display_name": "Python 3"
    },
    "language_info": {
      "name": "python"
    }
  },
  "cells": [
    {
      "cell_type": "markdown",
      "source": [
        "### 필요 라이브러리 설치 및 가져오기"
      ],
      "metadata": {
        "id": "993bhoHVPG4h"
      }
    },
    {
      "cell_type": "code",
      "source": [
        "pip install konlpy"
      ],
      "metadata": {
        "colab": {
          "base_uri": "https://localhost:8080/"
        },
        "id": "OaXzKmBb_yrV",
        "outputId": "3cce2751-174e-4923-e9f8-def82bf84368"
      },
      "execution_count": null,
      "outputs": [
        {
          "output_type": "stream",
          "name": "stdout",
          "text": [
            "Looking in indexes: https://pypi.org/simple, https://us-python.pkg.dev/colab-wheels/public/simple/\n",
            "Requirement already satisfied: konlpy in /usr/local/lib/python3.8/dist-packages (0.6.0)\n",
            "Requirement already satisfied: lxml>=4.1.0 in /usr/local/lib/python3.8/dist-packages (from konlpy) (4.9.2)\n",
            "Requirement already satisfied: numpy>=1.6 in /usr/local/lib/python3.8/dist-packages (from konlpy) (1.21.6)\n",
            "Requirement already satisfied: JPype1>=0.7.0 in /usr/local/lib/python3.8/dist-packages (from konlpy) (1.4.1)\n",
            "Requirement already satisfied: packaging in /usr/local/lib/python3.8/dist-packages (from JPype1>=0.7.0->konlpy) (23.0)\n"
          ]
        }
      ]
    },
    {
      "cell_type": "code",
      "execution_count": null,
      "metadata": {
        "id": "Z5EYtJeD5zhf"
      },
      "outputs": [],
      "source": [
        "import requests\n",
        "from bs4 import BeautifulSoup\n",
        "import konlpy\n",
        "import pandas as pd\n",
        "import numpy as np\n",
        "from sklearn.feature_extraction.text import TfidfVectorizer #CountVectorizer # tf-idf 방식을 사용하려면 대신 TfidfVectorizer를 import\n",
        "from sklearn.model_selection import train_test_split\n",
        "from sklearn.linear_model import LogisticRegression\n",
        "from sklearn.metrics import accuracy_score\n",
        "import re\n",
        "from sklearn.discriminant_analysis import LinearDiscriminantAnalysis\n",
        "from sklearn.preprocessing import StandardScaler\n",
        "import matplotlib.pyplot as plt\n",
        "%matplotlib inline\n",
        "import csv\n",
        "import nltk\n",
        "from nltk.corpus import stopwords\n",
        "from nltk.stem import WordNetLemmatizer\n",
        "from sklearn.feature_extraction.text import TfidfVectorizer\n",
        "from sklearn.decomposition import LatentDirichletAllocation"
      ]
    },
    {
      "cell_type": "code",
      "source": [
        "nltk.download('punkt')"
      ],
      "metadata": {
        "colab": {
          "base_uri": "https://localhost:8080/"
        },
        "id": "a-oEE0vjaVMO",
        "outputId": "32cc07a5-6fc7-489b-f868-f8773a6b44b6"
      },
      "execution_count": null,
      "outputs": [
        {
          "output_type": "stream",
          "name": "stderr",
          "text": [
            "[nltk_data] Downloading package punkt to /root/nltk_data...\n",
            "[nltk_data]   Package punkt is already up-to-date!\n"
          ]
        },
        {
          "output_type": "execute_result",
          "data": {
            "text/plain": [
              "True"
            ]
          },
          "metadata": {},
          "execution_count": 58
        }
      ]
    },
    {
      "cell_type": "code",
      "source": [
        "nltk.download('wordnet')"
      ],
      "metadata": {
        "colab": {
          "base_uri": "https://localhost:8080/"
        },
        "id": "liOXDKc6b2Gl",
        "outputId": "9b842ce5-057d-4ca6-b0bb-74cad8b0d15a"
      },
      "execution_count": null,
      "outputs": [
        {
          "output_type": "stream",
          "name": "stderr",
          "text": [
            "[nltk_data] Downloading package wordnet to /root/nltk_data...\n",
            "[nltk_data]   Package wordnet is already up-to-date!\n"
          ]
        },
        {
          "output_type": "execute_result",
          "data": {
            "text/plain": [
              "True"
            ]
          },
          "metadata": {},
          "execution_count": 59
        }
      ]
    },
    {
      "cell_type": "code",
      "source": [
        "nltk.download('stopwords')"
      ],
      "metadata": {
        "colab": {
          "base_uri": "https://localhost:8080/"
        },
        "id": "yuowKbAjautR",
        "outputId": "f1e83fc3-8882-4853-f615-8ce9dc8e9477"
      },
      "execution_count": null,
      "outputs": [
        {
          "output_type": "stream",
          "name": "stderr",
          "text": [
            "[nltk_data] Downloading package stopwords to /root/nltk_data...\n",
            "[nltk_data]   Package stopwords is already up-to-date!\n"
          ]
        },
        {
          "output_type": "execute_result",
          "data": {
            "text/plain": [
              "True"
            ]
          },
          "metadata": {},
          "execution_count": 60
        }
      ]
    },
    {
      "cell_type": "markdown",
      "source": [
        "### 네이버 현재 상영작 리뷰 크롤링 (이건 재실행하지 말 것)"
      ],
      "metadata": {
        "id": "Xa-xbVHJ9TQ_"
      }
    },
    {
      "cell_type": "code",
      "source": [
        "# 네이버 평점, 리뷰 페이지\n",
        "review_data = []\n",
        "\n",
        "for page in range(1, 1000):\n",
        "  url = f'https://movie.naver.com/movie/point/af/list.naver?&page={page}'\n",
        "\n",
        "  movie = requests.get(url)\n",
        "  soup = BeautifulSoup(movie.content, 'html.parser')\n",
        "  score_results = soup.find_all('td', {'class': 'title'})\n",
        "  \n",
        "  for review in score_results:\n",
        "    sentence = review.find('a', {'class': 'report'}).get('onclick').split(\"', '\")[2]\n",
        "    \n",
        "    if sentence != \"\":\n",
        "      mtitle = review.find('a', {'class': 'movie color_b'}).get_text()\n",
        "      score = review.find('em').get_text()\n",
        "      review_data.append([mtitle, sentence, int(score)])\n",
        "      # review_cnt -= 1"
      ],
      "metadata": {
        "id": "tAtubgKM-L-_"
      },
      "execution_count": null,
      "outputs": []
    },
    {
      "cell_type": "code",
      "source": [
        "columns_name = ['movie', 'review', 'score']\n",
        "with open('naver_review.csv', 'w', newline='', encoding='utf8') as f:\n",
        "  write = csv.writer(f)\n",
        "  write.writerow(columns_name)\n",
        "  write.writerows(review_data)"
      ],
      "metadata": {
        "id": "AO8ULX8sIM5O"
      },
      "execution_count": null,
      "outputs": []
    },
    {
      "cell_type": "markdown",
      "source": [
        "### 데이터프레임 변환 및 오류 여부 확인"
      ],
      "metadata": {
        "id": "sJh9h4DSOxd7"
      }
    },
    {
      "cell_type": "code",
      "source": [
        "df = pd.read_csv('naver_review.csv')\n",
        "df"
      ],
      "metadata": {
        "colab": {
          "base_uri": "https://localhost:8080/",
          "height": 419
        },
        "id": "uUqJlD2g-L7s",
        "outputId": "a8ea320d-7c5d-463d-b6d8-b45725600d62"
      },
      "execution_count": null,
      "outputs": [
        {
          "output_type": "execute_result",
          "data": {
            "text/plain": [
              "           movie                                             review  score\n",
              "0         관계의 일변                  내용이라도 있으면 좋겠구만~~이야기 하고픈 내용이 뭔지 궁금      1\n",
              "1           비상선언                   감독 어쩌냐... 이제 비행기탈때마다 ㅂㄷㅂㄷ 할거같은데       1\n",
              "2     더 퍼스트 슬램덩크                                     두번봐 세번봐 네번보세요      10\n",
              "3             자백  영화제목이 미쓰네요 이미 반전의 결과를 알려 주고 있습니다. 원작을 먼저 보는것을 ...      4\n",
              "4             자백                                         너무좋아요재미있어요     10\n",
              "...          ...                                                ...    ...\n",
              "9321          동감                                  잔잔하며 옛 과거를 생각하게 됨      8\n",
              "9322          유령                      배우분들 연기 좋은 건 인정 스토리는 개인적으로 아쉽      7\n",
              "9323          정이  감독작품은 죄다 어디서 본듯한.이영화 저영화 짜깁기한  수준에 오버스런 캐릭터 진심...      1\n",
              "9324     애드 아스트라             결국 없다는 것. 그것을 받아들이는 것. 삶에서 중요한 많은 것들.      10\n",
              "9325        나르비크                         노르웨이의 비극.. 왜 이들이 아파해야 하는건가      6\n",
              "\n",
              "[9326 rows x 3 columns]"
            ],
            "text/html": [
              "\n",
              "  <div id=\"df-b93926e5-946d-4e83-bf9d-0ae2fc3c05ed\">\n",
              "    <div class=\"colab-df-container\">\n",
              "      <div>\n",
              "<style scoped>\n",
              "    .dataframe tbody tr th:only-of-type {\n",
              "        vertical-align: middle;\n",
              "    }\n",
              "\n",
              "    .dataframe tbody tr th {\n",
              "        vertical-align: top;\n",
              "    }\n",
              "\n",
              "    .dataframe thead th {\n",
              "        text-align: right;\n",
              "    }\n",
              "</style>\n",
              "<table border=\"1\" class=\"dataframe\">\n",
              "  <thead>\n",
              "    <tr style=\"text-align: right;\">\n",
              "      <th></th>\n",
              "      <th>movie</th>\n",
              "      <th>review</th>\n",
              "      <th>score</th>\n",
              "    </tr>\n",
              "  </thead>\n",
              "  <tbody>\n",
              "    <tr>\n",
              "      <th>0</th>\n",
              "      <td>관계의 일변</td>\n",
              "      <td>내용이라도 있으면 좋겠구만~~이야기 하고픈 내용이 뭔지 궁금</td>\n",
              "      <td>1</td>\n",
              "    </tr>\n",
              "    <tr>\n",
              "      <th>1</th>\n",
              "      <td>비상선언</td>\n",
              "      <td>감독 어쩌냐... 이제 비행기탈때마다 ㅂㄷㅂㄷ 할거같은데</td>\n",
              "      <td>1</td>\n",
              "    </tr>\n",
              "    <tr>\n",
              "      <th>2</th>\n",
              "      <td>더 퍼스트 슬램덩크</td>\n",
              "      <td>두번봐 세번봐 네번보세요</td>\n",
              "      <td>10</td>\n",
              "    </tr>\n",
              "    <tr>\n",
              "      <th>3</th>\n",
              "      <td>자백</td>\n",
              "      <td>영화제목이 미쓰네요 이미 반전의 결과를 알려 주고 있습니다. 원작을 먼저 보는것을 ...</td>\n",
              "      <td>4</td>\n",
              "    </tr>\n",
              "    <tr>\n",
              "      <th>4</th>\n",
              "      <td>자백</td>\n",
              "      <td>너무좋아요재미있어요</td>\n",
              "      <td>10</td>\n",
              "    </tr>\n",
              "    <tr>\n",
              "      <th>...</th>\n",
              "      <td>...</td>\n",
              "      <td>...</td>\n",
              "      <td>...</td>\n",
              "    </tr>\n",
              "    <tr>\n",
              "      <th>9321</th>\n",
              "      <td>동감</td>\n",
              "      <td>잔잔하며 옛 과거를 생각하게 됨</td>\n",
              "      <td>8</td>\n",
              "    </tr>\n",
              "    <tr>\n",
              "      <th>9322</th>\n",
              "      <td>유령</td>\n",
              "      <td>배우분들 연기 좋은 건 인정 스토리는 개인적으로 아쉽</td>\n",
              "      <td>7</td>\n",
              "    </tr>\n",
              "    <tr>\n",
              "      <th>9323</th>\n",
              "      <td>정이</td>\n",
              "      <td>감독작품은 죄다 어디서 본듯한.이영화 저영화 짜깁기한  수준에 오버스런 캐릭터 진심...</td>\n",
              "      <td>1</td>\n",
              "    </tr>\n",
              "    <tr>\n",
              "      <th>9324</th>\n",
              "      <td>애드 아스트라</td>\n",
              "      <td>결국 없다는 것. 그것을 받아들이는 것. 삶에서 중요한 많은 것들.</td>\n",
              "      <td>10</td>\n",
              "    </tr>\n",
              "    <tr>\n",
              "      <th>9325</th>\n",
              "      <td>나르비크</td>\n",
              "      <td>노르웨이의 비극.. 왜 이들이 아파해야 하는건가</td>\n",
              "      <td>6</td>\n",
              "    </tr>\n",
              "  </tbody>\n",
              "</table>\n",
              "<p>9326 rows × 3 columns</p>\n",
              "</div>\n",
              "      <button class=\"colab-df-convert\" onclick=\"convertToInteractive('df-b93926e5-946d-4e83-bf9d-0ae2fc3c05ed')\"\n",
              "              title=\"Convert this dataframe to an interactive table.\"\n",
              "              style=\"display:none;\">\n",
              "        \n",
              "  <svg xmlns=\"http://www.w3.org/2000/svg\" height=\"24px\"viewBox=\"0 0 24 24\"\n",
              "       width=\"24px\">\n",
              "    <path d=\"M0 0h24v24H0V0z\" fill=\"none\"/>\n",
              "    <path d=\"M18.56 5.44l.94 2.06.94-2.06 2.06-.94-2.06-.94-.94-2.06-.94 2.06-2.06.94zm-11 1L8.5 8.5l.94-2.06 2.06-.94-2.06-.94L8.5 2.5l-.94 2.06-2.06.94zm10 10l.94 2.06.94-2.06 2.06-.94-2.06-.94-.94-2.06-.94 2.06-2.06.94z\"/><path d=\"M17.41 7.96l-1.37-1.37c-.4-.4-.92-.59-1.43-.59-.52 0-1.04.2-1.43.59L10.3 9.45l-7.72 7.72c-.78.78-.78 2.05 0 2.83L4 21.41c.39.39.9.59 1.41.59.51 0 1.02-.2 1.41-.59l7.78-7.78 2.81-2.81c.8-.78.8-2.07 0-2.86zM5.41 20L4 18.59l7.72-7.72 1.47 1.35L5.41 20z\"/>\n",
              "  </svg>\n",
              "      </button>\n",
              "      \n",
              "  <style>\n",
              "    .colab-df-container {\n",
              "      display:flex;\n",
              "      flex-wrap:wrap;\n",
              "      gap: 12px;\n",
              "    }\n",
              "\n",
              "    .colab-df-convert {\n",
              "      background-color: #E8F0FE;\n",
              "      border: none;\n",
              "      border-radius: 50%;\n",
              "      cursor: pointer;\n",
              "      display: none;\n",
              "      fill: #1967D2;\n",
              "      height: 32px;\n",
              "      padding: 0 0 0 0;\n",
              "      width: 32px;\n",
              "    }\n",
              "\n",
              "    .colab-df-convert:hover {\n",
              "      background-color: #E2EBFA;\n",
              "      box-shadow: 0px 1px 2px rgba(60, 64, 67, 0.3), 0px 1px 3px 1px rgba(60, 64, 67, 0.15);\n",
              "      fill: #174EA6;\n",
              "    }\n",
              "\n",
              "    [theme=dark] .colab-df-convert {\n",
              "      background-color: #3B4455;\n",
              "      fill: #D2E3FC;\n",
              "    }\n",
              "\n",
              "    [theme=dark] .colab-df-convert:hover {\n",
              "      background-color: #434B5C;\n",
              "      box-shadow: 0px 1px 3px 1px rgba(0, 0, 0, 0.15);\n",
              "      filter: drop-shadow(0px 1px 2px rgba(0, 0, 0, 0.3));\n",
              "      fill: #FFFFFF;\n",
              "    }\n",
              "  </style>\n",
              "\n",
              "      <script>\n",
              "        const buttonEl =\n",
              "          document.querySelector('#df-b93926e5-946d-4e83-bf9d-0ae2fc3c05ed button.colab-df-convert');\n",
              "        buttonEl.style.display =\n",
              "          google.colab.kernel.accessAllowed ? 'block' : 'none';\n",
              "\n",
              "        async function convertToInteractive(key) {\n",
              "          const element = document.querySelector('#df-b93926e5-946d-4e83-bf9d-0ae2fc3c05ed');\n",
              "          const dataTable =\n",
              "            await google.colab.kernel.invokeFunction('convertToInteractive',\n",
              "                                                     [key], {});\n",
              "          if (!dataTable) return;\n",
              "\n",
              "          const docLinkHtml = 'Like what you see? Visit the ' +\n",
              "            '<a target=\"_blank\" href=https://colab.research.google.com/notebooks/data_table.ipynb>data table notebook</a>'\n",
              "            + ' to learn more about interactive tables.';\n",
              "          element.innerHTML = '';\n",
              "          dataTable['output_type'] = 'display_data';\n",
              "          await google.colab.output.renderOutput(dataTable, element);\n",
              "          const docLink = document.createElement('div');\n",
              "          docLink.innerHTML = docLinkHtml;\n",
              "          element.appendChild(docLink);\n",
              "        }\n",
              "      </script>\n",
              "    </div>\n",
              "  </div>\n",
              "  "
            ]
          },
          "metadata": {},
          "execution_count": 6
        }
      ]
    },
    {
      "cell_type": "code",
      "source": [
        "df.info()"
      ],
      "metadata": {
        "colab": {
          "base_uri": "https://localhost:8080/"
        },
        "id": "1_Jq-kxJByiJ",
        "outputId": "e398bf9a-c737-4a7a-fa10-2e9353a3fd9d"
      },
      "execution_count": null,
      "outputs": [
        {
          "output_type": "stream",
          "name": "stdout",
          "text": [
            "<class 'pandas.core.frame.DataFrame'>\n",
            "RangeIndex: 9326 entries, 0 to 9325\n",
            "Data columns (total 3 columns):\n",
            " #   Column  Non-Null Count  Dtype \n",
            "---  ------  --------------  ----- \n",
            " 0   movie   9326 non-null   object\n",
            " 1   review  9326 non-null   object\n",
            " 2   score   9326 non-null   int64 \n",
            "dtypes: int64(1), object(2)\n",
            "memory usage: 218.7+ KB\n"
          ]
        }
      ]
    },
    {
      "cell_type": "code",
      "source": [
        "# comment에 내용이 없는 행 파악\n",
        "print(len(df[df['review'] == '']))\n",
        "\n",
        "# comment에 내용이 없는 행은 지워서 새 df에 저장\n",
        "reviews_with_comment_df = df[df['review'] != '']\n",
        "reviews_with_comment_df.reset_index(drop=True, inplace=True)\n",
        "\n",
        "print(len(reviews_with_comment_df))  # comment가 있는 리뷰의 수 "
      ],
      "metadata": {
        "colab": {
          "base_uri": "https://localhost:8080/"
        },
        "id": "z-ndtZdsPwg3",
        "outputId": "77466af2-c2ee-4c0e-c3f5-b0c0024ce5a7"
      },
      "execution_count": null,
      "outputs": [
        {
          "output_type": "stream",
          "name": "stdout",
          "text": [
            "0\n",
            "9326\n"
          ]
        }
      ]
    },
    {
      "cell_type": "code",
      "source": [
        "# 텍스트를 tokenize해서 adjective, verb, noun만 추출하는 함수\n",
        "\n",
        "def tokenize_korean_text(text): \n",
        "  text_filtered = re.sub('[^,.?!\\w\\s]','', text)\n",
        "\n",
        "  okt = konlpy.tag.Okt() \n",
        "  Okt_morphs = okt.pos(text_filtered) \n",
        "\n",
        "  words = []\n",
        "  for word, pos in Okt_morphs:\n",
        "    if pos == 'Adjective' or pos == 'Verb' or pos == 'Noun':\n",
        "      words.append(word)\n",
        "\n",
        "  words_str = ' '.join(words)\n",
        "  return words_str"
      ],
      "metadata": {
        "id": "j9oYDs-gQDLP"
      },
      "execution_count": null,
      "outputs": []
    },
    {
      "cell_type": "code",
      "source": [
        "X_texts = []\n",
        "y = []\n",
        "\n",
        "for score, review in zip(reviews_with_comment_df['score'], reviews_with_comment_df['review']):\n",
        "  if 4 <= score <= 7: \n",
        "    continue  \n",
        "     # 평점이 4~7인 영화는 애매하기 때문에 학습데이터로 사용하지 않음\n",
        "\n",
        "  tokenized_comment = tokenize_korean_text(review)  # 위에서 만들었던 함수로 comment 쪼개기\n",
        "  X_texts.append(tokenized_comment)\n",
        "\n",
        "  y.append(1 if score > 7 else -1)\n",
        "    # 평점이 8 이상이면(8,9,10) 값을 1로 지정 (positive)\n",
        "    # 평점이 3 이하이면(1,2,3) 값을 -1로 지정 (negative)\n",
        "\n",
        "print(f'원래 text 수: {len(reviews_with_comment_df)}')\n",
        "print(f'평점 3 이하 혹은 8 이상인 text 수: {len(X_texts)}')    \n",
        "print(X_texts[:5])"
      ],
      "metadata": {
        "colab": {
          "base_uri": "https://localhost:8080/"
        },
        "id": "YFwGBwP_QOuG",
        "outputId": "f6e28d3a-eabb-45a7-cbba-9f6c3e3a33e5"
      },
      "execution_count": null,
      "outputs": [
        {
          "output_type": "stream",
          "name": "stdout",
          "text": [
            "원래 text 수: 9326\n",
            "평점 3 이하 혹은 8 이상인 text 수: 7744\n",
            "['내용 있으면 좋겠구만 이야기 하고픈 내용 궁금', '감독 어쩌 이제 비행기 탈때 할거 같은데', '번 봐 세번 봐 번 보세요', '좋아요 재미있어요', '좋아요 재미있어요']\n"
          ]
        }
      ]
    },
    {
      "cell_type": "markdown",
      "source": [
        "### LDA 선형판별분석과 시각화"
      ],
      "metadata": {
        "id": "oTwoTVUxStKi"
      }
    },
    {
      "cell_type": "code",
      "source": [
        "reviews_with_comment_df"
      ],
      "metadata": {
        "colab": {
          "base_uri": "https://localhost:8080/",
          "height": 419
        },
        "id": "wl-fDaSBaCtN",
        "outputId": "1fb5010e-c301-4717-bfd5-294982ea64a4"
      },
      "execution_count": null,
      "outputs": [
        {
          "output_type": "execute_result",
          "data": {
            "text/plain": [
              "           movie                                             review  score\n",
              "0         관계의 일변                  내용이라도 있으면 좋겠구만~~이야기 하고픈 내용이 뭔지 궁금      1\n",
              "1           비상선언                   감독 어쩌냐... 이제 비행기탈때마다 ㅂㄷㅂㄷ 할거같은데       1\n",
              "2     더 퍼스트 슬램덩크                                     두번봐 세번봐 네번보세요      10\n",
              "3             자백  영화제목이 미쓰네요 이미 반전의 결과를 알려 주고 있습니다. 원작을 먼저 보는것을 ...      4\n",
              "4             자백                                         너무좋아요재미있어요     10\n",
              "...          ...                                                ...    ...\n",
              "9321          동감                                  잔잔하며 옛 과거를 생각하게 됨      8\n",
              "9322          유령                      배우분들 연기 좋은 건 인정 스토리는 개인적으로 아쉽      7\n",
              "9323          정이  감독작품은 죄다 어디서 본듯한.이영화 저영화 짜깁기한  수준에 오버스런 캐릭터 진심...      1\n",
              "9324     애드 아스트라             결국 없다는 것. 그것을 받아들이는 것. 삶에서 중요한 많은 것들.      10\n",
              "9325        나르비크                         노르웨이의 비극.. 왜 이들이 아파해야 하는건가      6\n",
              "\n",
              "[9326 rows x 3 columns]"
            ],
            "text/html": [
              "\n",
              "  <div id=\"df-40c2b35e-273c-49e0-824d-ce763cc9c0e8\">\n",
              "    <div class=\"colab-df-container\">\n",
              "      <div>\n",
              "<style scoped>\n",
              "    .dataframe tbody tr th:only-of-type {\n",
              "        vertical-align: middle;\n",
              "    }\n",
              "\n",
              "    .dataframe tbody tr th {\n",
              "        vertical-align: top;\n",
              "    }\n",
              "\n",
              "    .dataframe thead th {\n",
              "        text-align: right;\n",
              "    }\n",
              "</style>\n",
              "<table border=\"1\" class=\"dataframe\">\n",
              "  <thead>\n",
              "    <tr style=\"text-align: right;\">\n",
              "      <th></th>\n",
              "      <th>movie</th>\n",
              "      <th>review</th>\n",
              "      <th>score</th>\n",
              "    </tr>\n",
              "  </thead>\n",
              "  <tbody>\n",
              "    <tr>\n",
              "      <th>0</th>\n",
              "      <td>관계의 일변</td>\n",
              "      <td>내용이라도 있으면 좋겠구만~~이야기 하고픈 내용이 뭔지 궁금</td>\n",
              "      <td>1</td>\n",
              "    </tr>\n",
              "    <tr>\n",
              "      <th>1</th>\n",
              "      <td>비상선언</td>\n",
              "      <td>감독 어쩌냐... 이제 비행기탈때마다 ㅂㄷㅂㄷ 할거같은데</td>\n",
              "      <td>1</td>\n",
              "    </tr>\n",
              "    <tr>\n",
              "      <th>2</th>\n",
              "      <td>더 퍼스트 슬램덩크</td>\n",
              "      <td>두번봐 세번봐 네번보세요</td>\n",
              "      <td>10</td>\n",
              "    </tr>\n",
              "    <tr>\n",
              "      <th>3</th>\n",
              "      <td>자백</td>\n",
              "      <td>영화제목이 미쓰네요 이미 반전의 결과를 알려 주고 있습니다. 원작을 먼저 보는것을 ...</td>\n",
              "      <td>4</td>\n",
              "    </tr>\n",
              "    <tr>\n",
              "      <th>4</th>\n",
              "      <td>자백</td>\n",
              "      <td>너무좋아요재미있어요</td>\n",
              "      <td>10</td>\n",
              "    </tr>\n",
              "    <tr>\n",
              "      <th>...</th>\n",
              "      <td>...</td>\n",
              "      <td>...</td>\n",
              "      <td>...</td>\n",
              "    </tr>\n",
              "    <tr>\n",
              "      <th>9321</th>\n",
              "      <td>동감</td>\n",
              "      <td>잔잔하며 옛 과거를 생각하게 됨</td>\n",
              "      <td>8</td>\n",
              "    </tr>\n",
              "    <tr>\n",
              "      <th>9322</th>\n",
              "      <td>유령</td>\n",
              "      <td>배우분들 연기 좋은 건 인정 스토리는 개인적으로 아쉽</td>\n",
              "      <td>7</td>\n",
              "    </tr>\n",
              "    <tr>\n",
              "      <th>9323</th>\n",
              "      <td>정이</td>\n",
              "      <td>감독작품은 죄다 어디서 본듯한.이영화 저영화 짜깁기한  수준에 오버스런 캐릭터 진심...</td>\n",
              "      <td>1</td>\n",
              "    </tr>\n",
              "    <tr>\n",
              "      <th>9324</th>\n",
              "      <td>애드 아스트라</td>\n",
              "      <td>결국 없다는 것. 그것을 받아들이는 것. 삶에서 중요한 많은 것들.</td>\n",
              "      <td>10</td>\n",
              "    </tr>\n",
              "    <tr>\n",
              "      <th>9325</th>\n",
              "      <td>나르비크</td>\n",
              "      <td>노르웨이의 비극.. 왜 이들이 아파해야 하는건가</td>\n",
              "      <td>6</td>\n",
              "    </tr>\n",
              "  </tbody>\n",
              "</table>\n",
              "<p>9326 rows × 3 columns</p>\n",
              "</div>\n",
              "      <button class=\"colab-df-convert\" onclick=\"convertToInteractive('df-40c2b35e-273c-49e0-824d-ce763cc9c0e8')\"\n",
              "              title=\"Convert this dataframe to an interactive table.\"\n",
              "              style=\"display:none;\">\n",
              "        \n",
              "  <svg xmlns=\"http://www.w3.org/2000/svg\" height=\"24px\"viewBox=\"0 0 24 24\"\n",
              "       width=\"24px\">\n",
              "    <path d=\"M0 0h24v24H0V0z\" fill=\"none\"/>\n",
              "    <path d=\"M18.56 5.44l.94 2.06.94-2.06 2.06-.94-2.06-.94-.94-2.06-.94 2.06-2.06.94zm-11 1L8.5 8.5l.94-2.06 2.06-.94-2.06-.94L8.5 2.5l-.94 2.06-2.06.94zm10 10l.94 2.06.94-2.06 2.06-.94-2.06-.94-.94-2.06-.94 2.06-2.06.94z\"/><path d=\"M17.41 7.96l-1.37-1.37c-.4-.4-.92-.59-1.43-.59-.52 0-1.04.2-1.43.59L10.3 9.45l-7.72 7.72c-.78.78-.78 2.05 0 2.83L4 21.41c.39.39.9.59 1.41.59.51 0 1.02-.2 1.41-.59l7.78-7.78 2.81-2.81c.8-.78.8-2.07 0-2.86zM5.41 20L4 18.59l7.72-7.72 1.47 1.35L5.41 20z\"/>\n",
              "  </svg>\n",
              "      </button>\n",
              "      \n",
              "  <style>\n",
              "    .colab-df-container {\n",
              "      display:flex;\n",
              "      flex-wrap:wrap;\n",
              "      gap: 12px;\n",
              "    }\n",
              "\n",
              "    .colab-df-convert {\n",
              "      background-color: #E8F0FE;\n",
              "      border: none;\n",
              "      border-radius: 50%;\n",
              "      cursor: pointer;\n",
              "      display: none;\n",
              "      fill: #1967D2;\n",
              "      height: 32px;\n",
              "      padding: 0 0 0 0;\n",
              "      width: 32px;\n",
              "    }\n",
              "\n",
              "    .colab-df-convert:hover {\n",
              "      background-color: #E2EBFA;\n",
              "      box-shadow: 0px 1px 2px rgba(60, 64, 67, 0.3), 0px 1px 3px 1px rgba(60, 64, 67, 0.15);\n",
              "      fill: #174EA6;\n",
              "    }\n",
              "\n",
              "    [theme=dark] .colab-df-convert {\n",
              "      background-color: #3B4455;\n",
              "      fill: #D2E3FC;\n",
              "    }\n",
              "\n",
              "    [theme=dark] .colab-df-convert:hover {\n",
              "      background-color: #434B5C;\n",
              "      box-shadow: 0px 1px 3px 1px rgba(0, 0, 0, 0.15);\n",
              "      filter: drop-shadow(0px 1px 2px rgba(0, 0, 0, 0.3));\n",
              "      fill: #FFFFFF;\n",
              "    }\n",
              "  </style>\n",
              "\n",
              "      <script>\n",
              "        const buttonEl =\n",
              "          document.querySelector('#df-40c2b35e-273c-49e0-824d-ce763cc9c0e8 button.colab-df-convert');\n",
              "        buttonEl.style.display =\n",
              "          google.colab.kernel.accessAllowed ? 'block' : 'none';\n",
              "\n",
              "        async function convertToInteractive(key) {\n",
              "          const element = document.querySelector('#df-40c2b35e-273c-49e0-824d-ce763cc9c0e8');\n",
              "          const dataTable =\n",
              "            await google.colab.kernel.invokeFunction('convertToInteractive',\n",
              "                                                     [key], {});\n",
              "          if (!dataTable) return;\n",
              "\n",
              "          const docLinkHtml = 'Like what you see? Visit the ' +\n",
              "            '<a target=\"_blank\" href=https://colab.research.google.com/notebooks/data_table.ipynb>data table notebook</a>'\n",
              "            + ' to learn more about interactive tables.';\n",
              "          element.innerHTML = '';\n",
              "          dataTable['output_type'] = 'display_data';\n",
              "          await google.colab.output.renderOutput(dataTable, element);\n",
              "          const docLink = document.createElement('div');\n",
              "          docLink.innerHTML = docLinkHtml;\n",
              "          element.appendChild(docLink);\n",
              "        }\n",
              "      </script>\n",
              "    </div>\n",
              "  </div>\n",
              "  "
            ]
          },
          "metadata": {},
          "execution_count": 11
        }
      ]
    },
    {
      "cell_type": "code",
      "source": [
        "import pandas as pd\n",
        "import numpy as np\n",
        "\n",
        "import os, re\n",
        "from tqdm import tqdm\n",
        "\n",
        "# 경고문구 미표시\n",
        "import warnings\n",
        "warnings.filterwarnings('ignore')\n",
        "\n",
        "# 한글 폰트 지정\n",
        "import matplotlib.pyplot as plt\n",
        "plt.rc('font', family='NanumBarunGothic')\n",
        "# 트위터 형태소 분석기(Okt)를 활용\n",
        "from konlpy.utils import pprint\n",
        "from konlpy.tag import Okt\n",
        "okt = Okt()\n",
        "print(okt)"
      ],
      "metadata": {
        "colab": {
          "base_uri": "https://localhost:8080/"
        },
        "id": "oEkS5T_uEmqn",
        "outputId": "ee7b6383-8df1-4db1-a01a-747fc78cd5bd"
      },
      "execution_count": null,
      "outputs": [
        {
          "output_type": "stream",
          "name": "stdout",
          "text": [
            "<konlpy.tag._okt.Okt object at 0x7f322213ba60>\n"
          ]
        }
      ]
    },
    {
      "cell_type": "code",
      "source": [
        "review_data = reviews_with_comment_df['review']\n",
        "print(review_data[0])"
      ],
      "metadata": {
        "colab": {
          "base_uri": "https://localhost:8080/"
        },
        "id": "0u3LAYmMDwnK",
        "outputId": "6a546a6a-d296-406e-939f-e0f88d18be77"
      },
      "execution_count": null,
      "outputs": [
        {
          "output_type": "stream",
          "name": "stdout",
          "text": [
            "내용이라도 있으면 좋겠구만~~이야기 하고픈 내용이 뭔지 궁금\n"
          ]
        }
      ]
    },
    {
      "cell_type": "code",
      "source": [
        "# 세 글자 이상의 명사를 사용 (두 글자 이하의 단어는 제거)\n",
        "cleaned_review_data = []\n",
        "\n",
        "for review in tqdm(review_data):\n",
        "    tokens = okt.nouns(review)\n",
        "    cleaned_tokens = []\n",
        "    for word in tokens:\n",
        "        if len(word) > 2:\n",
        "            cleaned_tokens.append(word)\n",
        "        else:\n",
        "            pass\n",
        "    cleaned_review = \" \".join(cleaned_tokens)\n",
        "    cleaned_review_data.append(cleaned_review)\n",
        "\n",
        "print(len(cleaned_review_data))\n",
        "print(cleaned_review_data[0])"
      ],
      "metadata": {
        "colab": {
          "base_uri": "https://localhost:8080/"
        },
        "id": "iJ9u8wqdEcZv",
        "outputId": "bc630dab-87dd-4977-ea67-488154de37b4"
      },
      "execution_count": null,
      "outputs": [
        {
          "output_type": "stream",
          "name": "stderr",
          "text": [
            "100%|██████████| 9326/9326 [00:37<00:00, 246.64it/s]"
          ]
        },
        {
          "output_type": "stream",
          "name": "stdout",
          "text": [
            "9326\n",
            "이야기\n"
          ]
        },
        {
          "output_type": "stream",
          "name": "stderr",
          "text": [
            "\n"
          ]
        }
      ]
    },
    {
      "cell_type": "code",
      "source": [
        "# 사이킷런 패키지 활용 \n",
        "from sklearn.feature_extraction.text import TfidfVectorizer\n",
        "\n",
        "# TF-IDF 변환기 객체를 생성\n",
        "tfid = TfidfVectorizer()\n",
        "\n",
        "# TF-IDF 변환기에 데이터를 입력하여 변환\n",
        "review_tfid = tfid.fit_transform(cleaned_review_data)\n",
        "\n",
        "# 배열의 크기\n",
        "print(review_tfid.shape)\n",
        "\n",
        "# 첫 번째 데이터\n",
        "print(review_tfid[0])"
      ],
      "metadata": {
        "colab": {
          "base_uri": "https://localhost:8080/"
        },
        "id": "4RIKeHnaE0Qx",
        "outputId": "f1877b1b-f7b2-424c-f26d-079acd83ecb3"
      },
      "execution_count": null,
      "outputs": [
        {
          "output_type": "stream",
          "name": "stdout",
          "text": [
            "(9326, 2944)\n",
            "  (0, 1982)\t1.0\n"
          ]
        }
      ]
    },
    {
      "cell_type": "code",
      "source": [
        "# 사이킷런 패키지 활용\n",
        "from sklearn.decomposition import LatentDirichletAllocation\n",
        "\n",
        "# LDA 모델링 객체를 생성 (토픽 갯수를 2로 설정: 긍정/부정)\n",
        "lda = LatentDirichletAllocation(n_components=2)  \n",
        "\n",
        "# TF-IDF 벡터를 입력하여 모델 학습 \n",
        "lda.fit(review_tfid)"
      ],
      "metadata": {
        "colab": {
          "base_uri": "https://localhost:8080/"
        },
        "id": "XC9kX2cpE6RX",
        "outputId": "02d29ab8-77f3-4c1a-dc27-7c53d7447af9"
      },
      "execution_count": null,
      "outputs": [
        {
          "output_type": "execute_result",
          "data": {
            "text/plain": [
              "LatentDirichletAllocation(n_components=2)"
            ]
          },
          "metadata": {},
          "execution_count": 54
        }
      ]
    },
    {
      "cell_type": "code",
      "source": [
        "# 단어 사전 확인 (딕셔너리 형태)\n",
        "vocab = tfid.vocabulary_\n",
        "\n",
        "# 단어 사전의 크기\n",
        "print(len(vocab))\n",
        "\n",
        "# 단어 사전 출력 (앞에서 5개의 단어만 출력)\n",
        "print({ k:v for i, (k, v) in enumerate(vocab.items()) if i < 5 })"
      ],
      "metadata": {
        "colab": {
          "base_uri": "https://localhost:8080/"
        },
        "id": "O8uGFXt2FMii",
        "outputId": "e5f7499f-61a3-400a-be79-d1dbf2c79892"
      },
      "execution_count": null,
      "outputs": [
        {
          "output_type": "stream",
          "name": "stdout",
          "text": [
            "2944\n",
            "{'이야기': 1982, '비행기': 1118, '폴버호벤': 2714, '마지막': 730, '인내력': 2032}\n"
          ]
        }
      ]
    },
    {
      "cell_type": "code",
      "source": [
        "# 단어들의 사전 인덱스를 이용하여 원래 단어를 검색하는 매핑 딕셔너리\n",
        "index_to_word = { v:k for k, v in vocab.items() } \n",
        "\n",
        "# 앞에서 5개의 단어를 출력\n",
        "print({  k:v for i, (k, v) in enumerate(index_to_word.items()) if i < 5 })"
      ],
      "metadata": {
        "colab": {
          "base_uri": "https://localhost:8080/"
        },
        "id": "kSo18ZT7FHyP",
        "outputId": "d836666b-b166-4c14-a6d0-b2dfa3de220d"
      },
      "execution_count": null,
      "outputs": [
        {
          "output_type": "stream",
          "name": "stdout",
          "text": [
            "{1982: '이야기', 1118: '비행기', 2714: '폴버호벤', 730: '마지막', 2032: '인내력'}\n"
          ]
        }
      ]
    },
    {
      "cell_type": "code",
      "source": [
        "# 토픽 모델링 결과를 담고 있는 배열의 형태 : (2개의 토픽, 2157개의 단어)\n",
        "print(lda.components_.shape)"
      ],
      "metadata": {
        "colab": {
          "base_uri": "https://localhost:8080/"
        },
        "id": "N3KLbr94FAa_",
        "outputId": "e395cfc4-8517-4021-c42b-9497b3625379"
      },
      "execution_count": null,
      "outputs": [
        {
          "output_type": "stream",
          "name": "stdout",
          "text": [
            "(2, 2944)\n"
          ]
        }
      ]
    },
    {
      "cell_type": "code",
      "source": [
        "# 2157개의 단어 중에서, 토픽 별로 가장 중요도가 높은 단어를 10개씩 출력\n",
        "\n",
        "for idx, topic in enumerate(lda.components_):\n",
        "    print(f\"토픽 유형 {idx+1}:\", [(index_to_word[i], topic[i].round(3)) for i in topic.argsort()[:-11:-1]])"
      ],
      "metadata": {
        "colab": {
          "base_uri": "https://localhost:8080/"
        },
        "id": "vNO25zaOFCBG",
        "outputId": "5bc4c957-7197-47aa-c58f-5f46b1c3bc5e"
      },
      "execution_count": null,
      "outputs": [
        {
          "output_type": "stream",
          "name": "stdout",
          "text": [
            "토픽 유형 1: [('스토리', 326.441), ('드라마', 147.294), ('주인공', 84.406), ('영화관', 71.622), ('긴장감', 55.134), ('아바타', 54.657), ('캐릭터', 44.531), ('무조건', 37.592), ('뮤지컬', 37.495), ('황정민', 35.475)]\n",
            "토픽 유형 2: [('마지막', 158.343), ('이야기', 124.343), ('슬램덩크', 114.709), ('연기력', 62.932), ('영화로', 53.891), ('송태섭', 45.931), ('분위기', 38.464), ('할리우드', 38.183), ('쓰레기', 35.198), ('포인트', 34.204)]\n"
          ]
        }
      ]
    },
    {
      "cell_type": "code",
      "source": [
        "# pyLDAvis 설치\n",
        "!pip3 install pyLDAvis"
      ],
      "metadata": {
        "id": "793TvdWJFU53",
        "colab": {
          "base_uri": "https://localhost:8080/"
        },
        "outputId": "1a4e35f9-b93a-4633-91da-4c542aa60981"
      },
      "execution_count": null,
      "outputs": [
        {
          "output_type": "stream",
          "name": "stdout",
          "text": [
            "Looking in indexes: https://pypi.org/simple, https://us-python.pkg.dev/colab-wheels/public/simple/\n",
            "Collecting pyLDAvis\n",
            "  Using cached pyLDAvis-3.3.1.tar.gz (1.7 MB)\n",
            "  Installing build dependencies ... \u001b[?25l\u001b[?25hdone\n",
            "  Getting requirements to build wheel ... \u001b[?25l\u001b[?25hdone\n",
            "  Installing backend dependencies ... \u001b[?25l\u001b[?25hdone\n",
            "  Preparing metadata (pyproject.toml) ... \u001b[?25l\u001b[?25hdone\n",
            "Requirement already satisfied: gensim in /usr/local/lib/python3.8/dist-packages (from pyLDAvis) (3.6.0)\n",
            "Requirement already satisfied: scipy in /usr/local/lib/python3.8/dist-packages (from pyLDAvis) (1.7.3)\n",
            "Requirement already satisfied: pandas>=1.2.0 in /usr/local/lib/python3.8/dist-packages (from pyLDAvis) (1.3.5)\n",
            "Requirement already satisfied: future in /usr/local/lib/python3.8/dist-packages (from pyLDAvis) (0.16.0)\n",
            "Requirement already satisfied: scikit-learn in /usr/local/lib/python3.8/dist-packages (from pyLDAvis) (1.0.2)\n",
            "Requirement already satisfied: joblib in /usr/local/lib/python3.8/dist-packages (from pyLDAvis) (1.2.0)\n",
            "Collecting sklearn\n",
            "  Using cached sklearn-0.0.post1.tar.gz (3.6 kB)\n",
            "  Preparing metadata (setup.py) ... \u001b[?25l\u001b[?25hdone\n",
            "Requirement already satisfied: setuptools in /usr/local/lib/python3.8/dist-packages (from pyLDAvis) (57.4.0)\n",
            "Requirement already satisfied: numpy>=1.20.0 in /usr/local/lib/python3.8/dist-packages (from pyLDAvis) (1.21.6)\n",
            "Collecting funcy\n",
            "  Using cached funcy-1.18-py2.py3-none-any.whl (33 kB)\n",
            "Requirement already satisfied: numexpr in /usr/local/lib/python3.8/dist-packages (from pyLDAvis) (2.8.4)\n",
            "Requirement already satisfied: jinja2 in /usr/local/lib/python3.8/dist-packages (from pyLDAvis) (2.11.3)\n",
            "Requirement already satisfied: pytz>=2017.3 in /usr/local/lib/python3.8/dist-packages (from pandas>=1.2.0->pyLDAvis) (2022.7.1)\n",
            "Requirement already satisfied: python-dateutil>=2.7.3 in /usr/local/lib/python3.8/dist-packages (from pandas>=1.2.0->pyLDAvis) (2.8.2)\n",
            "Requirement already satisfied: smart-open>=1.2.1 in /usr/local/lib/python3.8/dist-packages (from gensim->pyLDAvis) (6.3.0)\n",
            "Requirement already satisfied: six>=1.5.0 in /usr/local/lib/python3.8/dist-packages (from gensim->pyLDAvis) (1.15.0)\n",
            "Requirement already satisfied: MarkupSafe>=0.23 in /usr/local/lib/python3.8/dist-packages (from jinja2->pyLDAvis) (2.0.1)\n",
            "Requirement already satisfied: threadpoolctl>=2.0.0 in /usr/local/lib/python3.8/dist-packages (from scikit-learn->pyLDAvis) (3.1.0)\n",
            "Building wheels for collected packages: pyLDAvis, sklearn\n",
            "  Building wheel for pyLDAvis (pyproject.toml) ... \u001b[?25l\u001b[?25hdone\n",
            "  Created wheel for pyLDAvis: filename=pyLDAvis-3.3.1-py2.py3-none-any.whl size=136898 sha256=c2285de7b5357798c442b151508ec7451cb6c890bfd475f1e5d7dbd925057fab\n",
            "  Stored in directory: /root/.cache/pip/wheels/90/61/ec/9dbe9efc3acf9c4e37ba70fbbcc3f3a0ebd121060aa593181a\n",
            "  Building wheel for sklearn (setup.py) ... \u001b[?25l\u001b[?25hdone\n",
            "  Created wheel for sklearn: filename=sklearn-0.0.post1-py3-none-any.whl size=2344 sha256=045c0cf8bac859d84d0ef4e4a5abfa61a864148d3387d9cbd24b798e9af84731\n",
            "  Stored in directory: /root/.cache/pip/wheels/14/25/f7/1cc0956978ae479e75140219088deb7a36f60459df242b1a72\n",
            "Successfully built pyLDAvis sklearn\n",
            "Installing collected packages: sklearn, funcy, pyLDAvis\n",
            "Successfully installed funcy-1.18 pyLDAvis-3.3.1 sklearn-0.0.post1\n"
          ]
        }
      ]
    },
    {
      "cell_type": "code",
      "source": [
        "# LDA 토픽 모델링 결과를 시각화\n",
        "import pyLDAvis.sklearn\n",
        "pyLDAvis.enable_notebook()\n",
        "visualization = pyLDAvis.sklearn.prepare(lda, review_tfid, tfid)\n",
        "pyLDAvis.display(visualization)"
      ],
      "metadata": {
        "colab": {
          "base_uri": "https://localhost:8080/",
          "height": 918
        },
        "id": "RYKzQxtHFS2n",
        "outputId": "f0d8fcb5-a6e8-4fba-a5a6-5c489b775c1e"
      },
      "execution_count": null,
      "outputs": [
        {
          "output_type": "stream",
          "name": "stderr",
          "text": [
            "/usr/local/lib/python3.8/dist-packages/past/types/oldstr.py:5: DeprecationWarning: Using or importing the ABCs from 'collections' instead of from 'collections.abc' is deprecated since Python 3.3, and in 3.10 it will stop working\n",
            "  from collections import Iterable\n"
          ]
        },
        {
          "output_type": "execute_result",
          "data": {
            "text/plain": [
              "<IPython.core.display.HTML object>"
            ],
            "text/html": [
              "\n",
              "<link rel=\"stylesheet\" type=\"text/css\" href=\"https://cdn.jsdelivr.net/gh/bmabey/pyLDAvis@3.3.1/pyLDAvis/js/ldavis.v1.0.0.css\">\n",
              "\n",
              "\n",
              "<div id=\"ldavis_el107139852608570640191191680\"></div>\n",
              "<script type=\"text/javascript\">\n",
              "\n",
              "var ldavis_el107139852608570640191191680_data = {\"mdsDat\": {\"x\": [0.15794013343642022, -0.15794013343642022], \"y\": [0.0, 0.0], \"topics\": [1, 2], \"cluster\": [1, 1], \"Freq\": [50.53069455889189, 49.46930544110811]}, \"tinfo\": {\"Term\": [\"\\uc2a4\\ud1a0\\ub9ac\", \"\\ub9c8\\uc9c0\\ub9c9\", \"\\ub4dc\\ub77c\\ub9c8\", \"\\uc774\\uc57c\\uae30\", \"\\uc2ac\\ub7a8\\ub369\\ud06c\", \"\\uc8fc\\uc778\\uacf5\", \"\\uc601\\ud654\\uad00\", \"\\uc5f0\\uae30\\ub825\", \"\\uae34\\uc7a5\\uac10\", \"\\uc544\\ubc14\\ud0c0\", \"\\uc601\\ud654\\ub85c\", \"\\uc1a1\\ud0dc\\uc12d\", \"\\uce90\\ub9ad\\ud130\", \"\\ubba4\\uc9c0\\uceec\", \"\\ud560\\ub9ac\\uc6b0\\ub4dc\", \"\\ubb34\\uc870\\uac74\", \"\\uc4f0\\ub808\\uae30\", \"\\ud3ec\\uc778\\ud2b8\", \"\\ubd84\\uc704\\uae30\", \"\\ud669\\uc815\\ubbfc\", \"\\uc560\\ub2c8\\uba54\\uc774\\uc158\", \"\\ub9cc\\ud654\\ucc45\", \"\\uadf8\\ub300\\ub85c\", \"\\uc2a4\\ud06c\\ub9b0\", \"\\ud0ac\\ub9c1\\ud0c0\\uc784\", \"\\ubc14\\ube4c\\ub860\", \"\\uc5bc\\ub9c8\\ub098\", \"\\uacf5\\ud3ec\\uc601\\ud654\", \"\\uc544\\uc26c\\uc6c0\", \"\\ud638\\ubd88\\ud638\", \"\\ub4dc\\ub77c\\ub9c8\", \"\\ub9c8\\uc9c0\\ub9c9\", \"\\uc774\\uc57c\\uae30\", \"\\uc2ac\\ub7a8\\ub369\\ud06c\", \"\\uc601\\ud654\\uad00\", \"\\uc5f0\\uae30\\ub825\", \"\\uc601\\ud654\\ub85c\", \"\\uc1a1\\ud0dc\\uc12d\", \"\\ud560\\ub9ac\\uc6b0\\ub4dc\", \"\\ubb34\\uc870\\uac74\", \"\\ud669\\uc815\\ubbfc\", \"\\uacf5\\ud3ec\\uc601\\ud654\", \"\\ud638\\ubd88\\ud638\", \"\\ubc14\\ube4c\\ub860\", \"\\ucf54\\ubbf8\\ub514\", \"\\uacac\\uc790\\ub2e8\", \"\\ucd5c\\uace0\\ub2e4\", \"\\uc9c0\\ub8e8\\ud568\", \"\\uc774\\uc601\\ud654\", \"\\uc601\\ud654\\uc778\", \"\\uc774\\ud558\\ub2ac\", \"\\ubd84\\uc704\\uae30\", \"\\uae40\\ud604\\uc8fc\", \"\\ud788\\uc5b4\\ub85c\", \"\\ub9c8\\ubb34\\ub9ac\", \"\\uac08\\uc218\\ub85d\", \"\\uc5f0\\uae30\\uc790\", \"\\uc7a5\\ub9cc\\uc625\", \"\\ud765\\ubbf8\\uc9c4\\uc9c4\", \"\\uac15\\uc218\\uc5f0\", \"\\ubab0\\uc785\\ub3c4\", \"\\uce90\\ub9ad\\ud130\", \"\\uc2dc\\ub9ac\\uc988\", \"\\uce90\\uc2a4\\ud305\", \"\\uac15\\ubc31\\ud638\", \"\\ucf58\\uc11c\\ud2b8\", \"\\ucc28\\ub77c\\ub9ac\", \"\\uc2a4\\ud1a0\\ub9ac\", \"\\uc544\\ubc14\\ud0c0\", \"\\uc8fc\\uc778\\uacf5\", \"\\uae34\\uc7a5\\uac10\", \"\\ubba4\\uc9c0\\uceec\", \"\\uc4f0\\ub808\\uae30\", \"\\ud3ec\\uc778\\ud2b8\", \"\\uc560\\ub2c8\\uba54\\uc774\\uc158\", \"\\ub9cc\\ud654\\ucc45\", \"\\uadf8\\ub300\\ub85c\", \"\\ud0ac\\ub9c1\\ud0c0\\uc784\", \"\\uc5bc\\ub9c8\\ub098\", \"\\uc2a4\\ud06c\\ub9b0\", \"\\uc548\\uc911\\uadfc\", \"\\uc81c\\ub300\\ub85c\", \"\\uc544\\uc26c\\uc6c0\", \"\\uc6b0\\ub9ac\\ub098\\ub77c\", \"\\ub300\\ud55c\\ubbfc\\uad6d\", \"\\ucc44\\ub4dc\\uc705\", \"\\uc2a4\\ub9b4\\ub7ec\", \"\\ub204\\uad70\\uac00\", \"\\ub137\\ud50c\\ub9ad\\uc2a4\", \"\\ud55c\\uad6d\\uc601\", \"\\uc544\\ubc84\\uc9c0\", \"\\uc5b5\\uc9c0\\ub85c\", \"\\uc2dc\\ub124\\ub9c8\", \"\\ub85c\\ub9e8\\uc2a4\", \"\\ud3c9\\ub860\\uac00\", \"\\uc815\\uc131\\ud654\", \"\\uac11\\uc790\\uae30\", \"\\ud5d0\\ub9ac\\uc6b0\\ub4dc\"], \"Freq\": [231.0, 111.0, 103.0, 87.0, 80.0, 60.0, 50.0, 44.0, 39.0, 39.0, 38.0, 32.0, 37.0, 26.0, 27.0, 26.0, 25.0, 24.0, 27.0, 25.0, 24.0, 23.0, 23.0, 22.0, 20.0, 21.0, 20.0, 20.0, 20.0, 20.0, 103.27772348479954, 110.80652359620929, 87.46442993545882, 80.18634181194642, 50.15772844886104, 44.1178465705891, 38.13634594340717, 32.11775322361621, 26.777353443369577, 26.33002523783243, 24.82332687718539, 20.307262623858325, 20.02725890975778, 21.09372211409135, 19.24509406855894, 17.850746709687467, 18.269288823499647, 17.86450842082894, 16.477345505709103, 16.29350983144077, 17.169790517414086, 26.683904659959403, 13.946882751780556, 13.889100319639732, 12.765465963625866, 13.203782075147876, 13.45688643175889, 12.496121801570368, 12.649590583289656, 13.016296458802545, 14.388661544049512, 35.76871848003827, 20.832822455431813, 14.116691307974026, 14.712743023551196, 14.029442575143364, 15.00610258169094, 230.26928744274593, 38.67566481075153, 59.422421414942214, 38.942466470998525, 26.489578792923712, 24.84871452276189, 24.183634335995237, 23.819982740586795, 22.93908868093098, 22.584063800220786, 20.53456322204274, 19.997563713676197, 21.56160522128699, 18.637149128913016, 18.701396641228953, 19.752021536409874, 18.126926252419885, 17.28159321709326, 15.65405357859773, 14.617111576623504, 14.583367601648217, 13.059205020442597, 14.035770698853323, 11.88897440828088, 12.053494543786472, 12.677666902445685, 12.332265779779387, 11.520088259134063, 11.147238461706655, 12.39968904884172, 16.677590804253203], \"Total\": [231.0, 111.0, 103.0, 87.0, 80.0, 60.0, 50.0, 44.0, 39.0, 39.0, 38.0, 32.0, 37.0, 26.0, 27.0, 26.0, 25.0, 24.0, 27.0, 25.0, 24.0, 23.0, 23.0, 22.0, 20.0, 21.0, 20.0, 20.0, 20.0, 20.0, 103.67404736055462, 111.25131498364249, 87.87715317255699, 80.70202999509765, 50.56838655420348, 44.54275191672085, 38.61648033814517, 32.5384310781777, 27.176327158194123, 26.739589079336117, 25.216187748259845, 20.681838678140554, 20.42054696085384, 21.513040604229783, 19.637606311321512, 18.229859032322913, 18.695042908875948, 18.28802696286055, 16.870899704966817, 16.699644988616487, 17.615582028537638, 27.427548535463313, 14.362817739456055, 14.3035526712862, 13.152782439403447, 13.60599581909935, 13.867772467244517, 12.882664396005698, 13.042770605817159, 13.428812545238515, 14.853869223862597, 37.62629775063722, 22.125621756285607, 14.65011455808608, 15.352896377890428, 14.579240886428858, 15.903694660666154, 231.2622096825688, 39.07031100080765, 60.04726871036973, 39.35413914028954, 26.867405778376742, 25.23803015105923, 24.579276826282687, 24.211175582467664, 23.348043662979205, 23.000941866091274, 20.937579248744644, 20.405564561750584, 22.01563010590696, 19.033403699183083, 19.10346515137801, 20.182439322941214, 18.54428674502993, 17.690145582407936, 16.044821663418084, 15.00943745824337, 14.987807565210465, 13.443406472853656, 14.450116688578396, 12.25887456150439, 12.430723518140192, 13.081036412116177, 12.740478908898808, 11.907306674279685, 11.523429882350248, 12.852870020435823, 17.91791503316112], \"Category\": [\"Default\", \"Default\", \"Default\", \"Default\", \"Default\", \"Default\", \"Default\", \"Default\", \"Default\", \"Default\", \"Default\", \"Default\", \"Default\", \"Default\", \"Default\", \"Default\", \"Default\", \"Default\", \"Default\", \"Default\", \"Default\", \"Default\", \"Default\", \"Default\", \"Default\", \"Default\", \"Default\", \"Default\", \"Default\", \"Default\", \"Topic1\", \"Topic1\", \"Topic1\", \"Topic1\", \"Topic1\", \"Topic1\", \"Topic1\", \"Topic1\", \"Topic1\", \"Topic1\", \"Topic1\", \"Topic1\", \"Topic1\", \"Topic1\", \"Topic1\", \"Topic1\", \"Topic1\", \"Topic1\", \"Topic1\", \"Topic1\", \"Topic1\", \"Topic1\", \"Topic1\", \"Topic1\", \"Topic1\", \"Topic1\", \"Topic1\", \"Topic1\", \"Topic1\", \"Topic1\", \"Topic1\", \"Topic1\", \"Topic1\", \"Topic1\", \"Topic1\", \"Topic1\", \"Topic1\", \"Topic2\", \"Topic2\", \"Topic2\", \"Topic2\", \"Topic2\", \"Topic2\", \"Topic2\", \"Topic2\", \"Topic2\", \"Topic2\", \"Topic2\", \"Topic2\", \"Topic2\", \"Topic2\", \"Topic2\", \"Topic2\", \"Topic2\", \"Topic2\", \"Topic2\", \"Topic2\", \"Topic2\", \"Topic2\", \"Topic2\", \"Topic2\", \"Topic2\", \"Topic2\", \"Topic2\", \"Topic2\", \"Topic2\", \"Topic2\", \"Topic2\"], \"logprob\": [30.0, 29.0, 28.0, 27.0, 26.0, 25.0, 24.0, 23.0, 22.0, 21.0, 20.0, 19.0, 18.0, 17.0, 16.0, 15.0, 14.0, 13.0, 12.0, 11.0, 10.0, 9.0, 8.0, 7.0, 6.0, 5.0, 4.0, 3.0, 2.0, 1.0, -3.5294, -3.459, -3.6956, -3.7825, -4.2516, -4.3799, -4.5256, -4.6974, -4.8792, -4.8961, -4.955, -5.1558, -5.1697, -5.1178, -5.2095, -5.2848, -5.2616, -5.284, -5.3648, -5.376, -5.3237, -4.8827, -5.5315, -5.5357, -5.6201, -5.5863, -5.5673, -5.6414, -5.6292, -5.6006, -5.5004, -4.5897, -5.1303, -5.5194, -5.4781, -5.5256, -5.4583, -2.7063, -4.4904, -4.0609, -4.4835, -4.8688, -4.9328, -4.9599, -4.9751, -5.0127, -5.0283, -5.1235, -5.15, -5.0747, -5.2204, -5.217, -5.1623, -5.2482, -5.2959, -5.3948, -5.4634, -5.4657, -5.5761, -5.504, -5.67, -5.6562, -5.6057, -5.6334, -5.7015, -5.7344, -5.6279, -5.3315], \"loglift\": [30.0, 29.0, 28.0, 27.0, 26.0, 25.0, 24.0, 23.0, 22.0, 21.0, 20.0, 19.0, 18.0, 17.0, 16.0, 15.0, 14.0, 13.0, 12.0, 11.0, 10.0, 9.0, 8.0, 7.0, 6.0, 5.0, 4.0, 3.0, 2.0, 1.0, 0.6788, 0.6786, 0.6779, 0.6762, 0.6744, 0.673, 0.6701, 0.6696, 0.6678, 0.6672, 0.6669, 0.6643, 0.6631, 0.6629, 0.6624, 0.6616, 0.6596, 0.6592, 0.659, 0.658, 0.657, 0.6551, 0.6532, 0.6532, 0.6527, 0.6526, 0.6525, 0.6521, 0.652, 0.6514, 0.6508, 0.632, 0.6224, 0.6455, 0.64, 0.6441, 0.6245, 0.6995, 0.6937, 0.6934, 0.6933, 0.6897, 0.6883, 0.6876, 0.6875, 0.6861, 0.6855, 0.6844, 0.6836, 0.683, 0.6828, 0.6825, 0.6823, 0.6811, 0.6805, 0.6792, 0.6773, 0.6765, 0.6748, 0.6747, 0.6732, 0.673, 0.6725, 0.6713, 0.6708, 0.6706, 0.6679, 0.6321]}, \"token.table\": {\"Topic\": [1, 2, 1, 2, 1, 1, 1, 2, 2, 1, 2, 2, 2, 1, 2, 1, 1, 2, 1, 1, 2, 1, 1, 2, 1, 2, 2, 1, 2, 1, 2, 2, 1, 2, 2, 2, 2, 2, 2, 2, 2, 2, 1, 1, 1, 1, 1, 2, 1, 1, 1, 1, 2, 2, 1, 2, 1, 1, 2, 2, 1, 1, 2, 1, 2, 1, 1, 2, 2, 2, 2, 2, 1, 1, 2, 1, 1, 1, 1], \"Freq\": [0.9554611197036613, 0.9336436127433192, 0.977014345097865, 0.065134289673191, 0.9680677242463587, 0.9873910691292042, 0.9670320086742956, 0.9999590509772706, 0.9910012225390802, 0.9747390974363366, 0.96701680680793, 1.000813490214395, 0.9609870037986428, 0.9934983983193938, 0.9418798214577626, 0.9883840213956754, 0.9977410156124498, 0.9850932408726362, 0.9425153668048414, 0.9723410454385906, 0.9677153132858535, 0.9761521110070832, 0.9844117116442069, 0.03645969302385951, 0.983452457284002, 0.999371231715404, 0.9992900450347425, 0.004324096017990155, 0.9945420841377357, 0.9913009623780183, 0.01239126202972523, 0.9938050465144247, 0.9491258700576026, 0.04519647000274298, 0.9905685923332951, 0.9982003982306106, 0.9788826812603733, 0.9909604919394537, 0.9982449960232538, 0.9912777641982579, 0.9653500846099878, 0.9801248056370467, 0.9878150340208973, 0.9374252448045147, 0.9887600417388395, 0.984035822717478, 0.9581041998741046, 0.9706493567256879, 0.9900184161538028, 0.9483785856002438, 0.9650546869504294, 0.9314843289498894, 0.9545769022162442, 0.9945839589541404, 0.01665354680532384, 0.9825592615141066, 0.9842505173769989, 0.9431770616860987, 0.06287847077907324, 0.9972064716979512, 0.962822074693075, 0.9567776303314435, 0.0531543127961913, 0.9556239266588361, 0.06825885190420258, 0.9675313629770692, 0.9602694755549278, 0.06859067682535198, 1.0029812783280139, 1.007784575324707, 0.9764323079813616, 0.9688503076979181, 0.9935117369919887, 0.05581006485125506, 0.948771102471336, 0.9794056955643731, 0.9914266283857771, 0.9967207423093002, 0.9787778128789242], \"Term\": [\"\\uac08\\uc218\\ub85d\", \"\\uac11\\uc790\\uae30\", \"\\uac15\\ubc31\\ud638\", \"\\uac15\\ubc31\\ud638\", \"\\uac15\\uc218\\uc5f0\", \"\\uacac\\uc790\\ub2e8\", \"\\uacf5\\ud3ec\\uc601\\ud654\", \"\\uadf8\\ub300\\ub85c\", \"\\uae34\\uc7a5\\uac10\", \"\\uae40\\ud604\\uc8fc\", \"\\ub137\\ud50c\\ub9ad\\uc2a4\", \"\\ub204\\uad70\\uac00\", \"\\ub300\\ud55c\\ubbfc\\uad6d\", \"\\ub4dc\\ub77c\\ub9c8\", \"\\ub85c\\ub9e8\\uc2a4\", \"\\ub9c8\\ubb34\\ub9ac\", \"\\ub9c8\\uc9c0\\ub9c9\", \"\\ub9cc\\ud654\\ucc45\", \"\\ubab0\\uc785\\ub3c4\", \"\\ubb34\\uc870\\uac74\", \"\\ubba4\\uc9c0\\uceec\", \"\\ubc14\\ube4c\\ub860\", \"\\ubd84\\uc704\\uae30\", \"\\ubd84\\uc704\\uae30\", \"\\uc1a1\\ud0dc\\uc12d\", \"\\uc2a4\\ub9b4\\ub7ec\", \"\\uc2a4\\ud06c\\ub9b0\", \"\\uc2a4\\ud1a0\\ub9ac\", \"\\uc2a4\\ud1a0\\ub9ac\", \"\\uc2ac\\ub7a8\\ub369\\ud06c\", \"\\uc2ac\\ub7a8\\ub369\\ud06c\", \"\\uc2dc\\ub124\\ub9c8\", \"\\uc2dc\\ub9ac\\uc988\", \"\\uc2dc\\ub9ac\\uc988\", \"\\uc4f0\\ub808\\uae30\", \"\\uc544\\ubc14\\ud0c0\", \"\\uc544\\ubc84\\uc9c0\", \"\\uc544\\uc26c\\uc6c0\", \"\\uc548\\uc911\\uadfc\", \"\\uc560\\ub2c8\\uba54\\uc774\\uc158\", \"\\uc5b5\\uc9c0\\ub85c\", \"\\uc5bc\\ub9c8\\ub098\", \"\\uc5f0\\uae30\\ub825\", \"\\uc5f0\\uae30\\uc790\", \"\\uc601\\ud654\\uad00\", \"\\uc601\\ud654\\ub85c\", \"\\uc601\\ud654\\uc778\", \"\\uc6b0\\ub9ac\\ub098\\ub77c\", \"\\uc774\\uc57c\\uae30\", \"\\uc774\\uc601\\ud654\", \"\\uc774\\ud558\\ub2ac\", \"\\uc7a5\\ub9cc\\uc625\", \"\\uc815\\uc131\\ud654\", \"\\uc81c\\ub300\\ub85c\", \"\\uc8fc\\uc778\\uacf5\", \"\\uc8fc\\uc778\\uacf5\", \"\\uc9c0\\ub8e8\\ud568\", \"\\ucc28\\ub77c\\ub9ac\", \"\\ucc28\\ub77c\\ub9ac\", \"\\ucc44\\ub4dc\\uc705\", \"\\ucd5c\\uace0\\ub2e4\", \"\\uce90\\ub9ad\\ud130\", \"\\uce90\\ub9ad\\ud130\", \"\\uce90\\uc2a4\\ud305\", \"\\uce90\\uc2a4\\ud305\", \"\\ucf54\\ubbf8\\ub514\", \"\\ucf58\\uc11c\\ud2b8\", \"\\ucf58\\uc11c\\ud2b8\", \"\\ud0ac\\ub9c1\\ud0c0\\uc784\", \"\\ud3c9\\ub860\\uac00\", \"\\ud3ec\\uc778\\ud2b8\", \"\\ud55c\\uad6d\\uc601\", \"\\ud560\\ub9ac\\uc6b0\\ub4dc\", \"\\ud5d0\\ub9ac\\uc6b0\\ub4dc\", \"\\ud5d0\\ub9ac\\uc6b0\\ub4dc\", \"\\ud638\\ubd88\\ud638\", \"\\ud669\\uc815\\ubbfc\", \"\\ud765\\ubbf8\\uc9c4\\uc9c4\", \"\\ud788\\uc5b4\\ub85c\"]}, \"R\": 30, \"lambda.step\": 0.01, \"plot.opts\": {\"xlab\": \"PC1\", \"ylab\": \"PC2\"}, \"topic.order\": [1, 2]};\n",
              "\n",
              "function LDAvis_load_lib(url, callback){\n",
              "  var s = document.createElement('script');\n",
              "  s.src = url;\n",
              "  s.async = true;\n",
              "  s.onreadystatechange = s.onload = callback;\n",
              "  s.onerror = function(){console.warn(\"failed to load library \" + url);};\n",
              "  document.getElementsByTagName(\"head\")[0].appendChild(s);\n",
              "}\n",
              "\n",
              "if(typeof(LDAvis) !== \"undefined\"){\n",
              "   // already loaded: just create the visualization\n",
              "   !function(LDAvis){\n",
              "       new LDAvis(\"#\" + \"ldavis_el107139852608570640191191680\", ldavis_el107139852608570640191191680_data);\n",
              "   }(LDAvis);\n",
              "}else if(typeof define === \"function\" && define.amd){\n",
              "   // require.js is available: use it to load d3/LDAvis\n",
              "   require.config({paths: {d3: \"https://d3js.org/d3.v5\"}});\n",
              "   require([\"d3\"], function(d3){\n",
              "      window.d3 = d3;\n",
              "      LDAvis_load_lib(\"https://cdn.jsdelivr.net/gh/bmabey/pyLDAvis@3.3.1/pyLDAvis/js/ldavis.v3.0.0.js\", function(){\n",
              "        new LDAvis(\"#\" + \"ldavis_el107139852608570640191191680\", ldavis_el107139852608570640191191680_data);\n",
              "      });\n",
              "    });\n",
              "}else{\n",
              "    // require.js not available: dynamically load d3 & LDAvis\n",
              "    LDAvis_load_lib(\"https://d3js.org/d3.v5.js\", function(){\n",
              "         LDAvis_load_lib(\"https://cdn.jsdelivr.net/gh/bmabey/pyLDAvis@3.3.1/pyLDAvis/js/ldavis.v3.0.0.js\", function(){\n",
              "                 new LDAvis(\"#\" + \"ldavis_el107139852608570640191191680\", ldavis_el107139852608570640191191680_data);\n",
              "            })\n",
              "         });\n",
              "}\n",
              "</script>"
            ]
          },
          "metadata": {},
          "execution_count": 62
        }
      ]
    },
    {
      "cell_type": "markdown",
      "source": [
        "### 토픽모델링  분석결과\n",
        "\n",
        "네이버 영화 현재 상영작에 대한 리뷰를 분석하기 위해 토픽 모델링을 수행하였다. 크롤링을 통해 만 개의 데이터를 수집하였고 수집시 결측값은 제외하도록 설계하였다. 그래프를 보면 두 가지 주성분으로 구분이 가능한데, 1번에서 관람객들은 슬램덩크나 아바타, 주인공이 누구인지, 어떤 캐릭터가 있는지 등 영화 자체에 중점을 두었다면 2번에서 관람객은 영화의 작품성을 중요시하는 것으로 해석할 수 있다."
      ],
      "metadata": {
        "id": "aCfN73RMQlua"
      }
    },
    {
      "cell_type": "markdown",
      "source": [
        "## 로지스틱 분류"
      ],
      "metadata": {
        "id": "VuMbfCGyJZda"
      }
    },
    {
      "cell_type": "code",
      "source": [
        "# 사이킷런 패키지 활용\n",
        "from sklearn.linear_model import LogisticRegression\n",
        "\n",
        "# 로지스틱 분류 모델링 객체를 생성 \n",
        "lr = LogisticRegression()\n",
        "\n",
        "data_for_logit = reviews_with_comment_df\n",
        "tmp = []\n",
        "for i in range(len(data_for_logit)):\n",
        "  a = data_for_logit[\"score\"][i]\n",
        "  if a > 5:\n",
        "    tmp.append(1)\n",
        "  else:\n",
        "    tmp.append(0)\n",
        "tmp = pd.DataFrame(tmp)\n",
        "data_for_logit[\"labels\"] = tmp\n",
        "labels = data_for_logit[\"labels\"]\n",
        "# TF-IDF 벡터를 입력하여 모델 학습 \n",
        "lr.fit(review_tfid, labels)"
      ],
      "metadata": {
        "colab": {
          "base_uri": "https://localhost:8080/"
        },
        "id": "HA3RBr_iFrxh",
        "outputId": "584f2e1c-820d-48fd-d974-303773058cfc"
      },
      "execution_count": null,
      "outputs": [
        {
          "output_type": "execute_result",
          "data": {
            "text/plain": [
              "LogisticRegression()"
            ]
          },
          "metadata": {},
          "execution_count": 44
        }
      ]
    },
    {
      "cell_type": "code",
      "source": [
        "# 첫 번째 샘플을 이용하여 모델 예측\n",
        "pred = lr.predict(review_tfid[0])\n",
        "print(pred)"
      ],
      "metadata": {
        "colab": {
          "base_uri": "https://localhost:8080/"
        },
        "id": "pynehD9KHrxw",
        "outputId": "1efabf79-bdda-40ee-ee5d-1e490f8572a9"
      },
      "execution_count": null,
      "outputs": [
        {
          "output_type": "stream",
          "name": "stdout",
          "text": [
            "[1]\n"
          ]
        }
      ]
    },
    {
      "cell_type": "markdown",
      "source": [
        "### TF-IDF 벡터화"
      ],
      "metadata": {
        "id": "b4Z4twNQqxXC"
      }
    },
    {
      "cell_type": "code",
      "source": [
        "# train_test_split\n",
        "X_train_texts, X_test_texts, y_train, y_test = train_test_split(X_texts, y, test_size=0.2, random_state=0)"
      ],
      "metadata": {
        "id": "p4QSdqzPQ7f3"
      },
      "execution_count": null,
      "outputs": []
    },
    {
      "cell_type": "code",
      "source": [
        "# CountVectorizer로 vector화\n",
        "tf_vectorizer = TfidfVectorizer()\n",
        "X_train_tf = tf_vectorizer.fit_transform(X_train_texts)  # training data에 맞게 fit & training data를 transform\n",
        "X_test_tf = tf_vectorizer.transform(X_test_texts) # test data를 transform\n",
        "\n",
        "vocablist = [word for word, number in sorted(tf_vectorizer.vocabulary_.items(), key=lambda x:x[1])]  # 단어들을 번호 기준 내림차순으로 저장"
      ],
      "metadata": {
        "id": "k5LR4K8JRB1o"
      },
      "execution_count": null,
      "outputs": []
    },
    {
      "cell_type": "code",
      "source": [
        "print(X_train_tf[:1], '\\n')\n",
        "print(X_test_tf[:1], '\\n')\n",
        "print(vocablist[:3])"
      ],
      "metadata": {
        "colab": {
          "base_uri": "https://localhost:8080/"
        },
        "id": "BtVQYAgoR6eU",
        "outputId": "ae1e93ab-3090-4419-b20d-42885fd3b513"
      },
      "execution_count": null,
      "outputs": [
        {
          "output_type": "stream",
          "name": "stdout",
          "text": [
            "  (0, 436)\t0.11132466368460438\n",
            "  (0, 12267)\t0.16035601851152642\n",
            "  (0, 7031)\t0.182543841839042\n",
            "  (0, 13521)\t0.11351865741325783\n",
            "  (0, 8410)\t0.182543841839042\n",
            "  (0, 12805)\t0.0733393725242713\n",
            "  (0, 5060)\t0.17435497641584288\n",
            "  (0, 4987)\t0.13932257949323726\n",
            "  (0, 1894)\t0.16403822608618057\n",
            "  (0, 10803)\t0.12592653881367805\n",
            "  (0, 6060)\t0.3370897678694511\n",
            "  (0, 5061)\t0.182543841839042\n",
            "  (0, 14767)\t0.1077915064332961\n",
            "  (0, 13734)\t0.182543841839042\n",
            "  (0, 11831)\t0.13932257949323726\n",
            "  (0, 11928)\t0.09342196515650017\n",
            "  (0, 10022)\t0.182543841839042\n",
            "  (0, 6765)\t0.15454592603040912\n",
            "  (0, 7945)\t0.12718921414453274\n",
            "  (0, 7493)\t0.182543841839042\n",
            "  (0, 13277)\t0.16035601851152642\n",
            "  (0, 13541)\t0.182543841839042\n",
            "  (0, 979)\t0.17435497641584288\n",
            "  (0, 10276)\t0.21659287682317355\n",
            "  (0, 15011)\t0.182543841839042\n",
            "  (0, 4114)\t0.365087683678084\n",
            "  (0, 4237)\t0.365087683678084\n",
            "  (0, 12278)\t0.14635706060721 \n",
            "\n",
            "  (0, 14686)\t0.07343566442516633\n",
            "  (0, 14450)\t0.08748330179416677\n",
            "  (0, 14399)\t0.1893778386168791\n",
            "  (0, 14340)\t0.12190942920862992\n",
            "  (0, 14327)\t0.14731251582056737\n",
            "  (0, 14317)\t0.11936318411907662\n",
            "  (0, 14087)\t0.06924580903113887\n",
            "  (0, 14045)\t0.12172646552646253\n",
            "  (0, 13974)\t0.12172646552646253\n",
            "  (0, 13289)\t0.1245216341615905\n",
            "  (0, 12835)\t0.13235309296809916\n",
            "  (0, 12769)\t0.13856927153059095\n",
            "  (0, 12040)\t0.08694531737681917\n",
            "  (0, 11784)\t0.13856927153059095\n",
            "  (0, 11292)\t0.12794264408895434\n",
            "  (0, 11274)\t0.1571882289353604\n",
            "  (0, 11037)\t0.13235309296809916\n",
            "  (0, 10721)\t0.1699287491107721\n",
            "  (0, 10122)\t0.11731601664731774\n",
            "  (0, 10091)\t0.15482845215313812\n",
            "  (0, 10045)\t0.10112569135604872\n",
            "  (0, 9740)\t0.08473382911749378\n",
            "  (0, 9735)\t0.329685021951358\n",
            "  (0, 9728)\t0.10112569135604872\n",
            "  (0, 9394)\t0.08280150100451156\n",
            "  :\t:\n",
            "  (0, 8529)\t0.11936318411907662\n",
            "  (0, 8513)\t0.0901693526539812\n",
            "  (0, 8131)\t0.12172646552646253\n",
            "  (0, 7697)\t0.12172646552646253\n",
            "  (0, 7634)\t0.10668938920568112\n",
            "  (0, 7459)\t0.09189375067331157\n",
            "  (0, 7327)\t0.11731601664731774\n",
            "  (0, 7192)\t0.059697754412774716\n",
            "  (0, 6933)\t0.12172646552646253\n",
            "  (0, 6928)\t0.06517231839091563\n",
            "  (0, 6651)\t0.13235309296809916\n",
            "  (0, 6590)\t0.13235309296809916\n",
            "  (0, 5171)\t0.11551028696397073\n",
            "  (0, 5122)\t0.11731601664731774\n",
            "  (0, 4984)\t0.12794264408895434\n",
            "  (0, 4643)\t0.13856927153059095\n",
            "  (0, 4233)\t0.12172646552646253\n",
            "  (0, 3839)\t0.2647061859361983\n",
            "  (0, 3610)\t0.11731601664731774\n",
            "  (0, 2740)\t0.08201512439504405\n",
            "  (0, 1085)\t0.13856927153059095\n",
            "  (0, 967)\t0.10405475588778479\n",
            "  (0, 692)\t0.23463203329463547\n",
            "  (0, 509)\t0.08804085351820568\n",
            "  (0, 424)\t0.08642557327418886 \n",
            "\n",
            "['가가', '가가연', '가감']\n"
          ]
        }
      ]
    },
    {
      "cell_type": "markdown",
      "source": [
        "### 로지스틱 회귀 모델 학습"
      ],
      "metadata": {
        "id": "8-ggDjhLq3pN"
      }
    },
    {
      "cell_type": "code",
      "source": [
        "model = LogisticRegression(C=0.1, penalty='l2', random_state=0)\n",
        "model.fit(X_train_tf, y_train)  # 학습"
      ],
      "metadata": {
        "colab": {
          "base_uri": "https://localhost:8080/"
        },
        "id": "eZ6oYGpgR_8p",
        "outputId": "01897961-b0fa-49dd-ffca-69bbc1c5d258"
      },
      "execution_count": null,
      "outputs": [
        {
          "output_type": "execute_result",
          "data": {
            "text/plain": [
              "LogisticRegression(C=0.1, random_state=0)"
            ]
          },
          "metadata": {},
          "execution_count": 52
        }
      ]
    },
    {
      "cell_type": "code",
      "source": [
        "LogisticRegression(C=0.1, class_weight=None, dual=False, fit_intercept=True,\n",
        "                   intercept_scaling=1, l1_ratio=None, max_iter=100,\n",
        "                   multi_class='auto', n_jobs=None, penalty='l2',\n",
        "                   random_state=0, solver='lbfgs', tol=0.0001, verbose=0,\n",
        "                   warm_start=False)"
      ],
      "metadata": {
        "colab": {
          "base_uri": "https://localhost:8080/"
        },
        "id": "Yilf6NjfSDAk",
        "outputId": "a8922de8-9b66-4527-d9cd-5ba72faf08a5"
      },
      "execution_count": null,
      "outputs": [
        {
          "output_type": "execute_result",
          "data": {
            "text/plain": [
              "LogisticRegression(C=0.1, random_state=0)"
            ]
          },
          "metadata": {},
          "execution_count": 53
        }
      ]
    },
    {
      "cell_type": "code",
      "source": [
        "y_test_pred = model.predict(X_test_tf)\n",
        "\n",
        "print('Misclassified samples: {} out of {}'.format((y_test_pred != y_test).sum(), len(y_test)))\n",
        "print('Accuracy: {:.2f}'.format(accuracy_score(y_test, y_test_pred)))  # model.score(X_test_tf, y_test)로 계산해도 됨"
      ],
      "metadata": {
        "colab": {
          "base_uri": "https://localhost:8080/"
        },
        "id": "8Y0A8JIGSH-H",
        "outputId": "70b2eb31-c0cb-4803-8b12-21f5d3d826f3"
      },
      "execution_count": null,
      "outputs": [
        {
          "output_type": "stream",
          "name": "stdout",
          "text": [
            "Misclassified samples: 237 out of 1549\n",
            "Accuracy: 0.85\n"
          ]
        }
      ]
    },
    {
      "cell_type": "code",
      "source": [
        "coefficients = model.coef_.tolist()\n",
        "\n",
        "sorted_coefficients = sorted(enumerate(coefficients[0]), key=lambda x:x[1], reverse=True)\n",
        "# coefficients(계수)가 큰 값부터 내림차순으로 정렬\n",
        "\n",
        "print('긍정적인 단어 Top 10 (높은 평점과 상관관계가 강한 단어들)')\n",
        "for word_num, coef in sorted_coefficients[:10]:\n",
        "  print('{0:}({1:.3f})'.format(vocablist[word_num], coef))\n",
        "\n",
        "print('\\n부정적인 단어 Top 10 (낮은 평점과 상관관계가 강한 단어들)')\n",
        "for word_num, coef in sorted_coefficients[-10:]: \n",
        "  print('{0:}({1:.3f})'.format(vocablist[word_num], coef))"
      ],
      "metadata": {
        "colab": {
          "base_uri": "https://localhost:8080/"
        },
        "id": "a5yqWUOASMjV",
        "outputId": "3a0a4d0a-a68e-44ab-95a2-1cdd35ac3230"
      },
      "execution_count": null,
      "outputs": [
        {
          "output_type": "stream",
          "name": "stdout",
          "text": [
            "긍정적인 단어 Top 10 (높은 평점과 상관관계가 강한 단어들)\n",
            "최고(0.969)\n",
            "감동(0.925)\n",
            "사랑(0.688)\n",
            "재밌게(0.645)\n",
            "봤습니다(0.577)\n",
            "인생(0.534)\n",
            "봤어요(0.500)\n",
            "눈물(0.463)\n",
            "좋아요(0.443)\n",
            "명작(0.440)\n",
            "\n",
            "부정적인 단어 Top 10 (낮은 평점과 상관관계가 강한 단어들)\n",
            "블랙(-0.533)\n",
            "아깝다(-0.568)\n",
            "아까(-0.589)\n",
            "별로(-0.627)\n",
            "없음(-0.627)\n",
            "시간(-0.809)\n",
            "쓰레기(-0.872)\n",
            "노잼(-0.940)\n",
            "마블(-1.049)\n",
            "최악(-1.214)\n"
          ]
        }
      ]
    },
    {
      "cell_type": "markdown",
      "source": [
        "### 새로운 댓글의 긍정/부정 예측"
      ],
      "metadata": {
        "id": "YZNDHt6NSSx8"
      }
    },
    {
      "cell_type": "code",
      "source": [
        "# 긍정/부정 테스트용 함수 생성\n",
        "def guess_good_or_bad(text):\n",
        "  text_filtered = text.replace('.', '').replace(',','').replace(\"'\",\"\").replace('·', ' ').replace('=','') \n",
        "\n",
        "  okt = konlpy.tag.Okt() \n",
        "  Okt_morphs = okt.pos(text_filtered) \n",
        "\n",
        "  words = []\n",
        "  for word, pos in Okt_morphs:\n",
        "    if pos == 'Adjective' or pos == 'Verb' or pos == 'Noun':\n",
        "      words.append(word)\n",
        "  words_str = ' '.join(words)\n",
        "  \n",
        "  new_text_tf = tf_vectorizer.transform([words_str])\n",
        "\n",
        "  if model.predict(new_text_tf) == 1:\n",
        "    print('긍정')\n",
        "  else:\n",
        "    print('부정')"
      ],
      "metadata": {
        "id": "8jhjD9ViSPnJ"
      },
      "execution_count": null,
      "outputs": []
    },
    {
      "cell_type": "code",
      "source": [
        "guess_good_or_bad('근래 본 영화 중에 제일 괜찮은듯')"
      ],
      "metadata": {
        "colab": {
          "base_uri": "https://localhost:8080/"
        },
        "id": "LyqHZwMfSXqx",
        "outputId": "c421e5ee-0b95-459b-d0bc-7be5db392472"
      },
      "execution_count": null,
      "outputs": [
        {
          "output_type": "stream",
          "name": "stdout",
          "text": [
            "긍정\n"
          ]
        }
      ]
    },
    {
      "cell_type": "code",
      "source": [
        "guess_good_or_bad('내 돈... 내 눈... 진짜..')"
      ],
      "metadata": {
        "id": "6ho1ioLiwkiT"
      },
      "execution_count": null,
      "outputs": []
    }
  ]
}